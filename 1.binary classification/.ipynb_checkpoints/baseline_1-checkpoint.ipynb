{
 "cells": [
  {
   "cell_type": "code",
   "execution_count": 1,
   "metadata": {},
   "outputs": [],
   "source": [
    "\n",
    "import pandas as pd\n",
    "\n",
    "\n",
    "from sklearn.ensemble import RandomForestClassifier\n",
    "from sklearn.model_selection import cross_validate , train_test_split , StratifiedShuffleSplit\n",
    "from sklearn import   linear_model, metrics\n",
    "from sklearn.linear_model import SGDClassifier as SGD\n",
    "\n",
    "#from pandas.tools.plotting import scatter_matrix"
   ]
  },
  {
   "cell_type": "code",
   "execution_count": 2,
   "metadata": {},
   "outputs": [],
   "source": [
    "train_directory = \"data/train.csv\"\n",
    "\n",
    "train = pd.read_csv(train_directory, header=0 )\n",
    "\n",
    "train['y'] = [1 if y == 'yes' else 0 for y in train['y']]\n",
    "\n",
    "#заменим значения бинарных признаков на 0 и 1\n",
    "# train.at[train['default'] == 'no', 'default'] = 0\n",
    "# train.at[train['default'] == 'unknown', 'default'] = 1\n",
    "\n",
    "# train.at[train['contact'] == 'cellular', 'contact'] = 0\n",
    "# train.at[train['contact'] == 'telephone', 'contact'] = 1\n",
    "\n",
    "#train['default'] = [1 if default == 'no' else 0 for default in train['default']]\n",
    "#train['contact'] = [1 if contact == 'cellular' else 0 for contact in train['contact']]\n",
    "#print(train['default'], train['y'])\n",
    "#print(train['contact'], train['y'])\n",
    "\n",
    "#train.info()#анализируем данные\n",
    "\n",
    "\n"
   ]
  },
  {
   "cell_type": "code",
   "execution_count": 3,
   "metadata": {},
   "outputs": [],
   "source": [
    "#train.shape #узнаем размер таблицы"
   ]
  },
  {
   "cell_type": "code",
   "execution_count": null,
   "metadata": {},
   "outputs": [],
   "source": []
  },
  {
   "cell_type": "code",
   "execution_count": null,
   "metadata": {},
   "outputs": [],
   "source": []
  },
  {
   "cell_type": "code",
   "execution_count": 4,
   "metadata": {},
   "outputs": [],
   "source": [
    "#train.describe()"
   ]
  },
  {
   "cell_type": "code",
   "execution_count": null,
   "metadata": {},
   "outputs": [],
   "source": []
  },
  {
   "cell_type": "code",
   "execution_count": 5,
   "metadata": {},
   "outputs": [],
   "source": [
    "\n",
    "#Выделим числовые и категоиальные признаки для улучшения качества модели\n",
    "# categorical_columns = [c for c in train.columns if train[c].dtype.name == 'object']\n",
    "# numerical_columns = [c for c in train.columns if train[c].dtype.name != 'object']\n",
    "# print categorical_columns\n",
    "# print numerical_columns"
   ]
  },
  {
   "cell_type": "code",
   "execution_count": 6,
   "metadata": {},
   "outputs": [],
   "source": [
    "#получаем общую информацию по категориальным признакам\n",
    "#train[categorical_columns].describe()"
   ]
  },
  {
   "cell_type": "code",
   "execution_count": null,
   "metadata": {},
   "outputs": [],
   "source": [
    "\n"
   ]
  },
  {
   "cell_type": "code",
   "execution_count": 7,
   "metadata": {},
   "outputs": [],
   "source": [
    "#полный перечень объектов\n",
    "#for c in categorical_columns:\n",
    "#    print train[c].unique()"
   ]
  },
  {
   "cell_type": "code",
   "execution_count": 8,
   "metadata": {},
   "outputs": [],
   "source": [
    "#from pandas.tools.plotting import scatter_matrix\n",
    "#scatter_matrix(train, alpha = 0.05, figsize = (10, 10)) #смотрим на корреляцию количественных признаков"
   ]
  },
  {
   "cell_type": "code",
   "execution_count": 9,
   "metadata": {},
   "outputs": [],
   "source": [
    "#train.corr()"
   ]
  },
  {
   "cell_type": "code",
   "execution_count": null,
   "metadata": {},
   "outputs": [],
   "source": []
  },
  {
   "cell_type": "code",
   "execution_count": 10,
   "metadata": {},
   "outputs": [],
   "source": [
    "\n",
    "#Строим диаграмму для пары признаков\n",
    "#import matplotlib.pyplot as plt\n",
    "\n",
    "\n",
    "#col1 = 'duration'\n",
    "#col2 = 'previous'\n",
    "\n",
    "# plt.figure(figsize=(10, 6))\n",
    "\n",
    "# plt.scatter(train[col1][train['y'] == '+'],\n",
    "#             train[col2][train['y'] == '+'],\n",
    "#             alpha=0.75,\n",
    "#             color='red',\n",
    "#             label='+')\n",
    "\n",
    "# plt.scatter(train[col1][train['y'] == '-'],\n",
    "#             train[col2][train['y'] == '-'],\n",
    "#             alpha=0.75,\n",
    "#             color='blue',\n",
    "#             label='-')\n",
    "\n",
    "# plt.xlabel(col1)\n",
    "# plt.ylabel(col2)\n",
    "# plt.legend(loc='best');"
   ]
  },
  {
   "cell_type": "code",
   "execution_count": 11,
   "metadata": {},
   "outputs": [],
   "source": [
    "#train.info()#анализируем данные"
   ]
  },
  {
   "cell_type": "code",
   "execution_count": 12,
   "metadata": {},
   "outputs": [],
   "source": [
    "#процесс векторизации\n",
    "#библиотека scikit не умеет напрямую обрабатывать категориальные признаки. Поэтому категоиальные признаки преобразуем\n",
    "#в количественные\n",
    "#разделим бинарные и небинарные категориальные признаки\n",
    "# train_describe = train.describe(include=[object])\n",
    "# binary_columns = [c for c in categorical_columns if train_describe[c]['unique'] == 2]\n",
    "# nonbinary_columns = [c for c in categorical_columns if train_describe[c]['unique'] > 2]\n",
    "# print binary_columns, nonbinary_columns"
   ]
  },
  {
   "cell_type": "code",
   "execution_count": 13,
   "metadata": {
    "scrolled": true
   },
   "outputs": [],
   "source": [
    "#К небинарными признакам применим метод векторизаци\n",
    "#Такую векторизацию осуществляет в pandas метод get_dummies:\n",
    "# train_nonbinary = pd.get_dummies(train[nonbinary_columns])\n",
    "# print train_nonbinary.columns\n",
    "\n"
   ]
  },
  {
   "cell_type": "code",
   "execution_count": 14,
   "metadata": {},
   "outputs": [],
   "source": [
    "#нормальзуем данные\n",
    "# train_numerical = train[numerical_columns]\n",
    "# train_numerical = (train_numerical - train_numerical.mean()) / train_numerical.std()\n",
    "# train_numerical.describe()"
   ]
  },
  {
   "cell_type": "code",
   "execution_count": 15,
   "metadata": {},
   "outputs": [],
   "source": [
    "#соберем все признаки\n",
    "#train = pd.concat((train_numerical, train[binary_columns], train_nonbinary), axis=1)\n",
    "#train = pd.DataFrame(train, dtype=float)\n",
    "#print train.shape\n",
    "#print train.columns\n",
    "\n",
    "#train.corr()"
   ]
  },
  {
   "cell_type": "code",
   "execution_count": 16,
   "metadata": {},
   "outputs": [],
   "source": [
    "#print(train)"
   ]
  },
  {
   "cell_type": "code",
   "execution_count": 17,
   "metadata": {},
   "outputs": [],
   "source": [
    "#train.corr()"
   ]
  },
  {
   "cell_type": "code",
   "execution_count": 18,
   "metadata": {},
   "outputs": [],
   "source": [
    "#выделим признак\n",
    "#X = train.drop(('y'), axis=1)  # Выбрасываем столбец 'y'.\n",
    "#y = train['y']\n",
    "#feature_names = X.columns\n",
    "#print feature_names"
   ]
  },
  {
   "cell_type": "code",
   "execution_count": 19,
   "metadata": {},
   "outputs": [],
   "source": [
    "#print X.shape\n",
    "#print y.shape\n",
    "#N, d = X.shape"
   ]
  },
  {
   "cell_type": "code",
   "execution_count": 20,
   "metadata": {},
   "outputs": [],
   "source": [
    "from sklearn.model_selection import train_test_split"
   ]
  },
  {
   "cell_type": "code",
   "execution_count": 21,
   "metadata": {},
   "outputs": [],
   "source": [
    "\n",
    "\n",
    "#X_train, X_test, y_train, y_test = train_test_split(X, y, test_size = 0.3, random_state = 11)\n",
    "\n",
    "#N_train, _ = X_train.shape \n",
    "#N_test,  _ = X_test.shape \n",
    "#print N_train, N_test"
   ]
  },
  {
   "cell_type": "code",
   "execution_count": 22,
   "metadata": {},
   "outputs": [],
   "source": [
    "from sklearn import ensemble\n",
    "import numpy as np\n",
    "\n",
    "# rf = ensemble.RandomForestRegressor(n_estimators=100, random_state=11)\n",
    "# rf.fit(X_train, y_train)\n",
    "\n",
    "# err_train = np.mean(y_train != rf.predict(X_train))\n",
    "# err_test  = np.mean(y_test  != rf.predict(X_test))\n",
    "# print err_train, err_test"
   ]
  },
  {
   "cell_type": "code",
   "execution_count": 23,
   "metadata": {},
   "outputs": [],
   "source": [
    "# importances = rf.feature_importances_\n",
    "# indices = np.argsort(importances)[::-1]\n",
    "\n",
    "# print(\"Feature importances:\")\n",
    "# for f, idx in enumerate(indices):\n",
    "#     print(\"{:2d}. feature '{:5s}' ({:.4f})\".format(f + 1, feature_names[idx], importances[idx]))"
   ]
  },
  {
   "cell_type": "code",
   "execution_count": 24,
   "metadata": {},
   "outputs": [],
   "source": [
    "# from matplotlib import pyplot as plt\n",
    "\n",
    "# d_first = 20\n",
    "# plt.figure(figsize=(8, 8))\n",
    "# plt.title(\"Feature importances\")\n",
    "# plt.bar(range(d_first), importances[indices[:d_first]], align='center')\n",
    "# plt.xticks(range(d_first), np.array(feature_names)[indices[:d_first]], rotation=90)\n",
    "# plt.xlim([-1, d_first]);\n",
    "\n"
   ]
  },
  {
   "cell_type": "code",
   "execution_count": 25,
   "metadata": {},
   "outputs": [],
   "source": [
    "#X = train[['age' , 'previous']][:] #выбраны некоррелируемые значения их значения по моделю равно 0.04\n",
    "X = train[['duration' , 'nr.employed']][:] \n",
    "\n",
    "y = train['y'][:]"
   ]
  },
  {
   "cell_type": "code",
   "execution_count": 26,
   "metadata": {},
   "outputs": [],
   "source": [
    "classifier = RandomForestClassifier()"
   ]
  },
  {
   "cell_type": "code",
   "execution_count": 27,
   "metadata": {},
   "outputs": [
    {
     "name": "stdout",
     "output_type": "stream",
     "text": [
      "(2255, 2) (967, 2) (2255,) (967,)\n"
     ]
    }
   ],
   "source": [
    "train_data, test_data, train_labels, test_labels = train_test_split(X, y, test_size = 0.3)\n",
    "print train_data.shape, test_data.shape, train_labels.shape, test_labels.shape"
   ]
  },
  {
   "cell_type": "code",
   "execution_count": 28,
   "metadata": {},
   "outputs": [
    {
     "name": "stderr",
     "output_type": "stream",
     "text": [
      "/home/avikharev/anaconda2/lib/python2.7/site-packages/sklearn/ensemble/forest.py:246: FutureWarning: The default value of n_estimators will change from 10 in version 0.20 to 100 in 0.22.\n",
      "  \"10 in version 0.20 to 100 in 0.22.\", FutureWarning)\n"
     ]
    },
    {
     "data": {
      "text/plain": [
       "RandomForestClassifier(bootstrap=True, class_weight=None, criterion='gini',\n",
       "            max_depth=None, max_features='auto', max_leaf_nodes=None,\n",
       "            min_impurity_decrease=0.0, min_impurity_split=None,\n",
       "            min_samples_leaf=1, min_samples_split=2,\n",
       "            min_weight_fraction_leaf=0.0, n_estimators=10, n_jobs=None,\n",
       "            oob_score=False, random_state=None, verbose=0,\n",
       "            warm_start=False)"
      ]
     },
     "execution_count": 28,
     "metadata": {},
     "output_type": "execute_result"
    }
   ],
   "source": [
    "classifier.fit(train_data , train_labels)"
   ]
  },
  {
   "cell_type": "code",
   "execution_count": 29,
   "metadata": {},
   "outputs": [
    {
     "name": "stdout",
     "output_type": "stream",
     "text": [
      "      duration  nr.employed\n",
      "2880       155       5099.1\n",
      "546        314       5099.1\n",
      "2496       200       5228.1\n",
      "275        309       5191.0\n",
      "147        171       5191.0\n",
      "2120       137       5228.1\n",
      "2047       199       5099.1\n",
      "924        113       5191.0\n",
      "2207       256       5228.1\n",
      "809        231       5099.1\n",
      "1518        75       5195.8\n",
      "829        157       5099.1\n",
      "598         95       5099.1\n",
      "647        284       5228.1\n",
      "1574       210       5228.1\n",
      "845        165       5195.8\n",
      "1391       643       5191.0\n",
      "1952       375       5195.8\n",
      "2696       112       5228.1\n",
      "2500       318       5099.1\n",
      "2513       294       5017.5\n",
      "4           58       5195.8\n",
      "2241       166       5191.0\n",
      "499        696       5076.2\n",
      "1044        91       5228.1\n",
      "2464        77       5228.1\n",
      "2801        24       5191.0\n",
      "3178       171       5191.0\n",
      "623        584       5099.1\n",
      "2541       266       5228.1\n",
      "...        ...          ...\n",
      "1610       361       5228.1\n",
      "3183       208       5191.0\n",
      "2391       118       5228.1\n",
      "1417       114       5191.0\n",
      "2752       230       5099.1\n",
      "879        339       5191.0\n",
      "208        273       5191.0\n",
      "1710       776       5191.0\n",
      "517        131       5008.7\n",
      "510        139       5228.1\n",
      "2627       314       5099.1\n",
      "1987        75       5099.1\n",
      "2670       112       5228.1\n",
      "606        167       5191.0\n",
      "866        160       5191.0\n",
      "502        342       5099.1\n",
      "1110       145       5191.0\n",
      "1313        57       5099.1\n",
      "718        292       4991.6\n",
      "333        336       5099.1\n",
      "2339       162       5191.0\n",
      "1565       195       5076.2\n",
      "1263       123       5228.1\n",
      "354         54       5191.0\n",
      "226        353       5099.1\n",
      "2567        64       5191.0\n",
      "1376        27       5195.8\n",
      "302        388       5228.1\n",
      "1609      1628       5017.5\n",
      "95         257       5195.8\n",
      "\n",
      "[967 rows x 2 columns]\n"
     ]
    }
   ],
   "source": [
    "pred_labels = classifier.predict(test_data)\n",
    "print test_data"
   ]
  },
  {
   "cell_type": "code",
   "execution_count": 30,
   "metadata": {},
   "outputs": [
    {
     "data": {
      "text/plain": [
       "0.6555781999868515"
      ]
     },
     "execution_count": 30,
     "metadata": {},
     "output_type": "execute_result"
    }
   ],
   "source": [
    "metrics.roc_auc_score(test_labels, pred_labels)\n",
    "#значение модели на основе корреляции между возрастом и previous (по ходу предыдущим кредитом) составляем примерно 0.516"
   ]
  },
  {
   "cell_type": "code",
   "execution_count": 31,
   "metadata": {},
   "outputs": [],
   "source": [
    "from sklearn.model_selection import cross_val_score"
   ]
  },
  {
   "cell_type": "code",
   "execution_count": 35,
   "metadata": {},
   "outputs": [
    {
     "name": "stdout",
     "output_type": "stream",
     "text": [
      "[0.88717949 0.88601036 0.86010363 0.90673575 0.90673575]\n"
     ]
    },
    {
     "data": {
      "text/plain": [
       "0.8893529958814932"
      ]
     },
     "execution_count": 35,
     "metadata": {},
     "output_type": "execute_result"
    }
   ],
   "source": [
    "#train_data, test_data, train_labels, test_labels \n",
    "import numpy\n",
    "scores = cross_val_score(classifier,test_data,test_labels, cv = 5)\n",
    "print(scores)\n",
    "\n",
    "numpy.mean(scores)"
   ]
  },
  {
   "cell_type": "code",
   "execution_count": null,
   "metadata": {},
   "outputs": [],
   "source": []
  },
  {
   "cell_type": "code",
   "execution_count": null,
   "metadata": {},
   "outputs": [],
   "source": []
  }
 ],
 "metadata": {
  "kernelspec": {
   "display_name": "Python 3",
   "language": "python",
   "name": "python3"
  },
  "language_info": {
   "codemirror_mode": {
    "name": "ipython",
    "version": 2
   },
   "file_extension": ".py",
   "mimetype": "text/x-python",
   "name": "python",
   "nbconvert_exporter": "python",
   "pygments_lexer": "ipython2",
   "version": "2.7.15"
  }
 },
 "nbformat": 4,
 "nbformat_minor": 2
}
