{
 "cells": [
  {
   "cell_type": "code",
   "execution_count": 1,
   "metadata": {},
   "outputs": [],
   "source": [
    "#use python 3\n",
    "import cPickle as pickle\n",
    "import numpy as np"
   ]
  },
  {
   "cell_type": "code",
   "execution_count": 2,
   "metadata": {},
   "outputs": [],
   "source": [
    "ratings = pickle.load(open('items_10000_matrix.pickle', 'rb'))#, encoding='iso-8859-1')"
   ]
  },
  {
   "cell_type": "code",
   "execution_count": null,
   "metadata": {},
   "outputs": [],
   "source": []
  },
  {
   "cell_type": "code",
   "execution_count": null,
   "metadata": {},
   "outputs": [],
   "source": []
  },
  {
   "cell_type": "code",
   "execution_count": 3,
   "metadata": {},
   "outputs": [
    {
     "data": {
      "text/plain": [
       "scipy.sparse.csr.csr_matrix"
      ]
     },
     "execution_count": 3,
     "metadata": {},
     "output_type": "execute_result"
    }
   ],
   "source": [
    "type(ratings)"
   ]
  },
  {
   "cell_type": "code",
   "execution_count": 4,
   "metadata": {},
   "outputs": [],
   "source": [
    "#import numpy as geek \n",
    "#ratings = ratings.toarray()\n",
    "#ratings = np.asarray(ratings)\n",
    "#ошибка. memory error wtf\n"
   ]
  },
  {
   "cell_type": "code",
   "execution_count": 5,
   "metadata": {},
   "outputs": [
    {
     "data": {
      "text/plain": [
       "(71869, 10000)"
      ]
     },
     "execution_count": 5,
     "metadata": {},
     "output_type": "execute_result"
    }
   ],
   "source": [
    "ratings.shape"
   ]
  },
  {
   "cell_type": "code",
   "execution_count": 6,
   "metadata": {},
   "outputs": [],
   "source": [
    "#print (ratings)"
   ]
  },
  {
   "cell_type": "markdown",
   "metadata": {},
   "source": [
    "*ratings* -  np.array состоящий из нулей и единиц, где каждая строка соответсвует пользователю, а каждая колонка - книге.  \n",
    "1 - на пересечении строки i колонки j значит, что пользователь i прочитал книгу j. 0 - пользователь i не читал книгу j."
   ]
  },
  {
   "cell_type": "code",
   "execution_count": 7,
   "metadata": {},
   "outputs": [
    {
     "data": {
      "text/plain": [
       "0"
      ]
     },
     "execution_count": 7,
     "metadata": {},
     "output_type": "execute_result"
    }
   ],
   "source": [
    "ratings[1,1]"
   ]
  },
  {
   "cell_type": "raw",
   "metadata": {},
   "source": []
  },
  {
   "cell_type": "markdown",
   "metadata": {},
   "source": [
    "# Part 1"
   ]
  },
  {
   "cell_type": "markdown",
   "metadata": {},
   "source": [
    "### Task 1. Найти самую популярную книгу."
   ]
  },
  {
   "cell_type": "code",
   "execution_count": 8,
   "metadata": {},
   "outputs": [
    {
     "ename": "ValueError",
     "evalue": "The truth value of an array with more than one element is ambiguous. Use a.any() or a.all()",
     "output_type": "error",
     "traceback": [
      "\u001b[0;31m---------------------------------------------------------------------------\u001b[0m",
      "\u001b[0;31mValueError\u001b[0m                                Traceback (most recent call last)",
      "\u001b[0;32m<ipython-input-8-a30e388e6154>\u001b[0m in \u001b[0;36m<module>\u001b[0;34m()\u001b[0m\n\u001b[1;32m      5\u001b[0m \u001b[0;34m\u001b[0m\u001b[0m\n\u001b[1;32m      6\u001b[0m \u001b[0;32mfor\u001b[0m \u001b[0mindex\u001b[0m\u001b[0;34m,\u001b[0m \u001b[0mi\u001b[0m \u001b[0;32min\u001b[0m \u001b[0menumerate\u001b[0m\u001b[0;34m(\u001b[0m\u001b[0msum_column\u001b[0m\u001b[0;34m)\u001b[0m\u001b[0;34m:\u001b[0m\u001b[0;31m#перебираем каждый элемент в массиве и ищем максимальное значение у индекса\u001b[0m\u001b[0;34m\u001b[0m\u001b[0m\n\u001b[0;32m----> 7\u001b[0;31m     \u001b[0;32mif\u001b[0m \u001b[0mi\u001b[0m \u001b[0;34m==\u001b[0m \u001b[0mmax\u001b[0m\u001b[0;34m(\u001b[0m\u001b[0msum_column\u001b[0m\u001b[0;34m)\u001b[0m\u001b[0;34m:\u001b[0m\u001b[0;34m\u001b[0m\u001b[0m\n\u001b[0m\u001b[1;32m      8\u001b[0m         \u001b[0;32mprint\u001b[0m\u001b[0;34m(\u001b[0m\u001b[0;34m'most popular book = {}'\u001b[0m\u001b[0;34m.\u001b[0m\u001b[0mformat\u001b[0m\u001b[0;34m(\u001b[0m\u001b[0mindex\u001b[0m\u001b[0;34m+\u001b[0m\u001b[0;36m1\u001b[0m\u001b[0;34m)\u001b[0m\u001b[0;34m)\u001b[0m\u001b[0;34m\u001b[0m\u001b[0m\n\u001b[1;32m      9\u001b[0m \u001b[0;34m\u001b[0m\u001b[0m\n",
      "\u001b[0;31mValueError\u001b[0m: The truth value of an array with more than one element is ambiguous. Use a.any() or a.all()"
     ]
    }
   ],
   "source": [
    "import numpy as np\n",
    "sum_column = np.sum(ratings, axis = 0)#находим сумму элементов в столбце\n",
    "\n",
    "\n",
    "\n",
    "for index, i in enumerate(sum_column):#перебираем каждый элемент в массиве и ищем максимальное значение у индекса\n",
    "    if i == max(sum_column):\n",
    "        print('most popular book = {}'.format(index+1))\n",
    "\n"
   ]
  },
  {
   "cell_type": "code",
   "execution_count": null,
   "metadata": {},
   "outputs": [],
   "source": [
    "max_sum_read_books = max(sum_column)#находим сколько раз прочли наиболее читаемую книгу\n",
    "\n",
    "print (max_sum_read_books)"
   ]
  },
  {
   "cell_type": "code",
   "execution_count": null,
   "metadata": {},
   "outputs": [],
   "source": [
    "#сверял правильно ли отработал перебор\n",
    "#import numpy as np\n",
    "#sum_line = np.sum(ratings, axis = 0)#находим сумму элементов по столбцу\n",
    "#N=len(sum_line)\n",
    "#\n",
    "#if sum_line[0] > sum_line[1]:\n",
    "#    max1 = 0\n",
    "#    max2 = 1\n",
    "#else:\n",
    "#    max1 = 1\n",
    "#    max2 = 0\n",
    "#   \n",
    "#for i in range(2,N):\n",
    "#    if sum_line[i] > sum_line[max1]:\n",
    "#        b = max1\n",
    "#        max1 = i\n",
    "#        if sum_line[b] > sum_line[max2]:\n",
    "#            max2 = b\n",
    "#    elif sum_line[i] > sum_line[max2]:\n",
    "#        max2 = i\n",
    "#       \n",
    "#print(\"№%3d:%3d\" % (max1+1, sum_line[max1]))#первый максимальый\n",
    "#print(\"№%3d:%3d\" % (max2+1, sum_line[max2]))#вторая максимальная библиотка (а что такие лоу значения?)"
   ]
  },
  {
   "cell_type": "markdown",
   "metadata": {},
   "source": [
    "### Task 2. Найти пользователя со второй по величине библиотекой."
   ]
  },
  {
   "cell_type": "code",
   "execution_count": null,
   "metadata": {},
   "outputs": [],
   "source": [
    "import numpy as np\n",
    "sum_line = np.sum(ratings, axis = 1)#находим сумму элементов по строке, загоняем в массив\n",
    "N=len(sum_line)\n",
    "\n",
    "if sum_line[0] > sum_line[1]:\n",
    "    max1 = 0\n",
    "    max2 = 1\n",
    "else:\n",
    "    max1 = 1\n",
    "    max2 = 0\n",
    "   \n",
    "for i in range(2,N):\n",
    "    if sum_line[i] > sum_line[max1]:\n",
    "        b = max1\n",
    "        max1 = i\n",
    "        if sum_line[b] > sum_line[max2]:\n",
    "            max2 = b\n",
    "    elif sum_line[i] > sum_line[max2]:\n",
    "        max2 = i\n",
    "       \n",
    "print(\"№%3d:%3d\" % (max1+1, sum_line[max1]))#первый максимальый\n",
    "print(\"№%3d:%3d\" % (max2+1, sum_line[max2]))#вторая максимальная библиотка \n",
    "\n",
    "\n",
    "second_biggest_library = sum_line[max2]\n",
    "\n",
    "\n",
    "print('user_id with the second biggest library = {}'.format(second_biggest_library))"
   ]
  },
  {
   "cell_type": "markdown",
   "metadata": {},
   "source": [
    "### Task 3. Найти среднее и медиану размера библиотеки."
   ]
  },
  {
   "cell_type": "code",
   "execution_count": null,
   "metadata": {},
   "outputs": [],
   "source": [
    "#которая вторая по величине у пользователя?\n",
    "N=len(sum_line)#размер всей выборки книг\n",
    "print(N)\n",
    "print(second_biggest_library)\n",
    "mean = second_biggest_library/N\n",
    "print('mean = {}'.format(mean))"
   ]
  },
  {
   "cell_type": "code",
   "execution_count": null,
   "metadata": {},
   "outputs": [],
   "source": [
    "#Размер всей библиотеки\n",
    "all_sum = np.sum(sum_line)\n",
    "print(all_sum)\n",
    "mean_all_library = all_sum/N\n",
    "print(mean_all_library)\n"
   ]
  },
  {
   "cell_type": "code",
   "execution_count": null,
   "metadata": {},
   "outputs": [],
   "source": [
    "#N=len(sum_line)\n",
    "#N = str(int(N))\n",
    "#Sorted_sum_line = sorted(sum_line)\n",
    "#middle = (len(sum_line)//2) + 0.5#ищем инщдекс среднего элемента // для int\n",
    "\n",
    "\n",
    "\n",
    "N = (len(sum_line) // 2)\n",
    "print(N)\n",
    "if  len(sum_line) % 2 == 0:\n",
    "    median = (sum_line[N] + sum_line[N-1]) // 2\n",
    "  \n",
    "else:    \n",
    "    median = sum_line[N]\n",
    "   \n",
    "\n",
    "\n",
    "print('median = {}'.format(median))"
   ]
  },
  {
   "cell_type": "code",
   "execution_count": null,
   "metadata": {},
   "outputs": [],
   "source": [
    "from statistics import median\n",
    "median(sum_line)"
   ]
  },
  {
   "cell_type": "markdown",
   "metadata": {},
   "source": [
    "### Task 4. Найти медиану размера библиоткеи у пользователей, которые прочитали книгу номер с id 100."
   ]
  },
  {
   "cell_type": "code",
   "execution_count": null,
   "metadata": {},
   "outputs": [],
   "source": [
    "ratings[99,100]"
   ]
  },
  {
   "cell_type": "code",
   "execution_count": null,
   "metadata": {},
   "outputs": [],
   "source": [
    "#найти пользователей, которые прочитали 100 -ую книгу\n",
    "#вычислить у них библиотеку\n",
    "#посчитать медиану у библиотек\n",
    "\n",
    "import numpy as np\n",
    "\n",
    "#np.argwhere(ratings[100, i] == 1)\n",
    "#sum_column = np.sum(ratings, axis = 0)\n",
    "#sum_line = np.sum(3, axis = 1)\n",
    "\n",
    "#N = len(sum_column)\n",
    "#M = len(sum_line)\n",
    "n,m = ratings.shape\n",
    "\n",
    "sum_library_index = []\n",
    "\n",
    "for i in range(n):\n",
    "    if ratings[i,100] == 1:\n",
    "        print(i)\n",
    "\n",
    "for i in range(M):\n",
    "        for j in range(N):\n",
    "            if ratings[i,j] == 1:\n",
    "                if i == 99:\n",
    "                    q=i\n",
    "                    w=j\n",
    "                    print(q,w)#выводим индекс пользователей прочитавших 100 книшу \n",
    "                    sum_library_index.append(w)\n",
    "                    print(sum_library_index)\n",
    " \n",
    "\n",
    "\n",
    "\n",
    "            \n",
    "           \n",
    "\n",
    "\n",
    "\n",
    "\n",
    "\n",
    "#median_number =\n",
    "#print('Median number of books of users who read the book with id 100 = {}'.format(median_number))"
   ]
  },
  {
   "cell_type": "code",
   "execution_count": null,
   "metadata": {},
   "outputs": [],
   "source": [
    "Z = len(sum_library_index)\n",
    "print(sum_library_index)\n",
    "print(Z)"
   ]
  },
  {
   "cell_type": "markdown",
   "metadata": {},
   "source": [
    "# Part 2"
   ]
  },
  {
   "cell_type": "markdown",
   "metadata": {},
   "source": [
    "### Task 1. Похожие книги.\n",
    "1. Найди 20 наиболее похожих книг для книги с id = 100. В качестве меры похожести используй cosine similarity. Используй наиболее быстрый вариант подсчета.\n",
    "  \n",
    "$$cosine\\ similarity = \\frac{A\\cdot B}{||A||\\ ||B||} = \\frac{\\sum_{i=1}^{n} A_iB_i}{\\sqrt{\\sum_{i=1}^{n}A_i^2}\\sqrt{\\sum_{i=1}^{n}B_i^2}}$$  \n",
    "  \n",
    "В качестве ответа верни список кортежей, где каждый кортеж представляет собой пару (book_id, similarity)."
   ]
  },
  {
   "cell_type": "code",
   "execution_count": null,
   "metadata": {},
   "outputs": [],
   "source": [
    "# import numpy as np\n",
    "# from sklearn.metrics.pairwise import cosine_similarity\n",
    "\n",
    "# # The usual creation of arrays produces wrong format (as cosine_similarity works on matrices)\n",
    "# x = np.array([2,3,1,0])\n",
    "# y = np.array([2,3,0,0])\n",
    "\n",
    "# # Need to reshape these\n",
    "# x = x.reshape(1,-1)\n",
    "# y = y.reshape(1,-1)\n",
    "\n",
    "# # Or just create as a single row matrix\n",
    "# z = np.array([[1,1,1,1]])\n",
    "\n",
    "# # Now we can compute similarities\n",
    "# cosine_similarity(x,y) # = array([[ 0.96362411]]), most similar\n",
    "# cosine_similarity(x,z) # = array([[ 0.80178373]]), next most similar\n",
    "# cosine_similarity(y,z) # = array([[ 0.69337525]]), least similar"
   ]
  },
  {
   "cell_type": "markdown",
   "metadata": {
    "collapsed": true
   },
   "source": [
    "# Part 3"
   ]
  },
  {
   "cell_type": "markdown",
   "metadata": {},
   "source": [
    "### Task 1. Матрица похожих книг (топ-20)."
   ]
  },
  {
   "cell_type": "markdown",
   "metadata": {},
   "source": [
    "Создать матрицу похожих книг (матрица 10000 x 10000) использую метрику *cosine similarity*. В каждоый строке оставить только топ 20 самых похожих. Лучше написать функцию которая на вход получает матрицу рейтингов на выходе матрица похожих книг. Эту фунцкцию можно будет использовать в следующем задании."
   ]
  },
  {
   "cell_type": "code",
   "execution_count": null,
   "metadata": {},
   "outputs": [],
   "source": [
    "def compute_sim_matrix(ratings):\n",
    "    pass"
   ]
  },
  {
   "cell_type": "markdown",
   "metadata": {},
   "source": [
    "### Task 2. Оценить рекомендательную систему."
   ]
  },
  {
   "cell_type": "markdown",
   "metadata": {},
   "source": [
    "Оценить качество рекомендательной системы, основанной на матрице похожих книг, использую метрики **precision** и **recall**. Рекомендации должны получаться путем умножения матрицы похожих книг на вектор пользователя.\n",
    "  \n",
    "**precison** - кол-во книг которые попали пользователю в рекомендации и он их действительно добавил делить на кол-во рекомендованных книг.\n",
    "  \n",
    "**recall** - кол-во книг которые попали пользователю в рекомендации и он их действительно добавил делить на кол-во книг добавленных пользователем. \n",
    "  \n",
    "Метрики считать на 20 самых лучших рекомендациях для каждого пользователя."
   ]
  },
  {
   "cell_type": "code",
   "execution_count": null,
   "metadata": {},
   "outputs": [],
   "source": []
  }
 ],
 "metadata": {
  "kernelspec": {
   "display_name": "Python 3",
   "language": "python",
   "name": "python3"
  },
  "language_info": {
   "codemirror_mode": {
    "name": "ipython",
    "version": 2
   },
   "file_extension": ".py",
   "mimetype": "text/x-python",
   "name": "python",
   "nbconvert_exporter": "python",
   "pygments_lexer": "ipython2",
   "version": "2.7.15"
  }
 },
 "nbformat": 4,
 "nbformat_minor": 1
}
