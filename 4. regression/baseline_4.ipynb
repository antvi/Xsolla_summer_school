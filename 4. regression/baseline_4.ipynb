{
 "cells": [
  {
   "cell_type": "markdown",
   "metadata": {},
   "source": [
    "# 0. IMPORT"
   ]
  },
  {
   "cell_type": "code",
   "execution_count": 1,
   "metadata": {},
   "outputs": [],
   "source": [
    "import pandas as pd\n",
    "import numpy as np\n",
    "import math\n",
    "import datetime\n",
    "import json\n",
    "import requests\n",
    "import re\n",
    "import itertools\n",
    "import re\n",
    "import ast\n",
    "from sklearn.utils import shuffle\n",
    "from sklearn.feature_extraction.text import CountVectorizer\n",
    "import collections as co\n",
    "\n",
    "import time\n",
    "from datetime import timedelta\n",
    "import os\n",
    "os.environ['KMP_DUPLICATE_LIB_OK']='True'"
   ]
  },
  {
   "cell_type": "code",
   "execution_count": 2,
   "metadata": {},
   "outputs": [
    {
     "name": "stdout",
     "output_type": "stream",
     "text": [
      "Populating the interactive namespace from numpy and matplotlib\n"
     ]
    },
    {
     "name": "stderr",
     "output_type": "stream",
     "text": [
      "/home/avikharev/anaconda2/lib/python2.7/site-packages/IPython/core/magics/pylab.py:161: UserWarning: pylab import has clobbered these variables: ['shuffle']\n",
      "`%matplotlib` prevents importing * from pylab and numpy\n",
      "  \"\\n`%matplotlib` prevents importing * from pylab and numpy\"\n"
     ]
    },
    {
     "ename": "ImportError",
     "evalue": "No module named plotly",
     "output_type": "error",
     "traceback": [
      "\u001b[0;31m---------------------------------------------------------------------------\u001b[0m",
      "\u001b[0;31mImportError\u001b[0m                               Traceback (most recent call last)",
      "\u001b[0;32m<ipython-input-2-2200f5b5c17e>\u001b[0m in \u001b[0;36m<module>\u001b[0;34m()\u001b[0m\n\u001b[1;32m     11\u001b[0m \u001b[0msns\u001b[0m\u001b[0;34m.\u001b[0m\u001b[0mset\u001b[0m\u001b[0;34m(\u001b[0m\u001b[0mstyle\u001b[0m\u001b[0;34m=\u001b[0m\u001b[0;34m\"white\"\u001b[0m\u001b[0;34m,\u001b[0m \u001b[0mcolor_codes\u001b[0m\u001b[0;34m=\u001b[0m\u001b[0mTrue\u001b[0m\u001b[0;34m)\u001b[0m\u001b[0;34m\u001b[0m\u001b[0m\n\u001b[1;32m     12\u001b[0m \u001b[0;34m\u001b[0m\u001b[0m\n\u001b[0;32m---> 13\u001b[0;31m \u001b[0;32mfrom\u001b[0m \u001b[0mplotly\u001b[0m \u001b[0;32mimport\u001b[0m \u001b[0m__version__\u001b[0m\u001b[0;34m\u001b[0m\u001b[0m\n\u001b[0m\u001b[1;32m     14\u001b[0m \u001b[0;32mfrom\u001b[0m \u001b[0mplotly\u001b[0m\u001b[0;34m.\u001b[0m\u001b[0moffline\u001b[0m \u001b[0;32mimport\u001b[0m \u001b[0mdownload_plotlyjs\u001b[0m\u001b[0;34m,\u001b[0m \u001b[0minit_notebook_mode\u001b[0m\u001b[0;34m,\u001b[0m \u001b[0mplot\u001b[0m\u001b[0;34m,\u001b[0m \u001b[0miplot\u001b[0m\u001b[0;34m\u001b[0m\u001b[0m\n\u001b[1;32m     15\u001b[0m \u001b[0;32mimport\u001b[0m \u001b[0mplotly\u001b[0m\u001b[0;34m.\u001b[0m\u001b[0mgraph_objs\u001b[0m \u001b[0;32mas\u001b[0m \u001b[0mgo\u001b[0m\u001b[0;34m\u001b[0m\u001b[0m\n",
      "\u001b[0;31mImportError\u001b[0m: No module named plotly"
     ]
    }
   ],
   "source": [
    "%matplotlib inline\n",
    "\n",
    "\n",
    "#for visualisation\n",
    "%pylab inline\n",
    "import warnings # current version of seaborn generates a bunch of warnings that we'll ignore\n",
    "warnings.filterwarnings(\"ignore\")\n",
    "import seaborn as sns\n",
    "import matplotlib.pyplot as plt\n",
    "import matplotlib.mlab as mlab\n",
    "sns.set(style=\"white\", color_codes=True)\n",
    "\n",
    "from plotly import __version__\n",
    "from plotly.offline import download_plotlyjs, init_notebook_mode, plot, iplot\n",
    "import plotly.graph_objs as go\n",
    "init_notebook_mode(connected=True)\n",
    "\n"
   ]
  },
  {
   "cell_type": "code",
   "execution_count": null,
   "metadata": {},
   "outputs": [],
   "source": [
    "\n",
    "import lightgbm as lgb\n"
   ]
  },
  {
   "cell_type": "code",
   "execution_count": null,
   "metadata": {},
   "outputs": [],
   "source": [
    "payments_df = pd.read_csv('./data/payments_2018.csv' , sep = ';' , error_bad_lines = False)\n",
    "payments_df.columns = ['sku' , 'id_payment' , 'date' , 'time' , 'price' , 'discount' , 'id_place' , 'id_good']\n",
    "payments_df.drop(axis = 1,columns = ['id_payment'] , inplace = True)\n",
    "payments_df['date'] = pd.to_datetime(payments_df['date'], format=\"%d.%m.%Y\")\n",
    "\n",
    "goods_df = pd.read_csv('./data/goods.csv' , sep = ';')"
   ]
  },
  {
   "cell_type": "code",
   "execution_count": null,
   "metadata": {},
   "outputs": [],
   "source": [
    "model_df  = pd.merge(payments_df, goods_df[['sku','category_id']], on='sku')\n",
    "\n",
    "\n",
    "pay_aggr_df = None\n",
    "pay_aggr_df = model_df.drop(['sku' , 'time' ,'price' ] , axis = 1)[:]\n",
    "\n",
    "pay_aggr_df = pay_aggr_df.groupby(['date' , 'id_place','id_good' , 'category_id'])[['discount']].count().reset_index()[:]\n",
    "pay_aggr_df.columns = ['date' , 'id_place','id_good' ,'category_id','count']\n"
   ]
  },
  {
   "cell_type": "code",
   "execution_count": null,
   "metadata": {},
   "outputs": [],
   "source": [
    "pay_aggr_df['count'] = np.log2(pay_aggr_df['count'] + 1)\n",
    "\n",
    "pay_aggr_df['weekday'] = pay_aggr_df['date'].dt.weekday"
   ]
  },
  {
   "cell_type": "code",
   "execution_count": null,
   "metadata": {},
   "outputs": [],
   "source": [
    "#add prev days info \n",
    "want_days_back = 10\n",
    "\n",
    "prev_columns = []\n",
    "pct_change_columns = []\n",
    "pct_rename = {}\n",
    "\n",
    "for d in range(want_days_back):\n",
    "    time.sleep(3)\n",
    "    pay_aggr_df['date_prev'] = pay_aggr_df['date'] - datetime.timedelta(days=d+1)\n",
    "    \n",
    "    pay_aggr_df = pd.merge(\n",
    "\n",
    "                            pay_aggr_df\n",
    "                            ,pay_aggr_df[['date' , 'id_place' , 'id_good' , 'count']]\n",
    "                         , how='left'\n",
    "                         ,left_on = ['date_prev' , 'id_place' , 'id_good']\n",
    "                         ,right_on = ['date' , 'id_place' , 'id_good']\n",
    "                         #, left_index=True\n",
    "                         #, right_index=True\n",
    "                         ).drop(['date_y'] , axis = 1).rename(columns={'date_x':'date'\n",
    "                                                                       ,'count_x':'count'\n",
    "                                                                      ,'count_y':'count_prev_'+str(d+1)})\n",
    "    \n",
    "    prev_columns.append('count_prev_'+str(d+1))\n",
    "    pct_change_columns.append('pct_change_'+str(d+1))\n",
    "    pct_rename['count_prev_'+str(d+1)] = 'pct_change_'+str(d+1)\n",
    "    \n",
    "pay_aggr_df.fillna(0 , inplace = True)\n",
    "\n",
    "print('done')"
   ]
  },
  {
   "cell_type": "code",
   "execution_count": null,
   "metadata": {},
   "outputs": [],
   "source": [
    "dfDummies = pd.get_dummies(pay_aggr_df['id_place'], prefix = 'id_place')\n",
    "pay_aggr_df = pd.concat([pay_aggr_df, dfDummies], axis=1)\n",
    "dfDummies = pd.get_dummies(pay_aggr_df['id_good'], prefix = 'id_good')\n",
    "pay_aggr_df = pd.concat([pay_aggr_df, dfDummies], axis=1)\n",
    "dfDummies = pd.get_dummies(pay_aggr_df['category_id'], prefix = 'category_id')\n",
    "pay_aggr_df = pd.concat([pay_aggr_df, dfDummies], axis=1)\n",
    "dfDummies = pd.get_dummies(pay_aggr_df['weekday'], prefix = 'weekday')\n",
    "pay_aggr_df = pd.concat([pay_aggr_df, dfDummies], axis=1)\n"
   ]
  },
  {
   "cell_type": "code",
   "execution_count": null,
   "metadata": {},
   "outputs": [],
   "source": [
    "params = {'bagging_fraction': 0.9455721266302124,\n",
    " 'bagging_freq': 14,\n",
    " 'boosting_type': 'gbdt',\n",
    " 'colsample_bytree': 0.678547801189827,\n",
    " 'feature_fraction': 0.6204114599267507,\n",
    " 'max_depth': 14,\n",
    " 'num_leaves': 48,\n",
    " 'objective': 'regression',\n",
    " 'metric': {'l2', 'mse'}}\n",
    "\n",
    "params['boosting_type'] = 'gbdt'\n",
    "params['objective'] = 'regression'\n",
    "params['metric'] = {'l2','mse'}\n"
   ]
  },
  {
   "cell_type": "code",
   "execution_count": null,
   "metadata": {},
   "outputs": [],
   "source": [
    "interest_columns = list(set(list(pay_aggr_df.columns)) - set(['date' , 'id_place' , 'id_good' , 'category_id' , 'date_prev' , 'count']))\n",
    "target_col = 'count'\n",
    "#%%time\n",
    "X_train = pay_aggr_df[interest_columns].loc[:250000][:]\n",
    "X_test = pay_aggr_df[interest_columns].loc[250000:][:]\n",
    "y_train = pay_aggr_df[target_col].loc[:250000][:]\n",
    "y_test = pay_aggr_df[target_col].loc[250000:][:]\n",
    "\n",
    "#X_train, X_test, y_train, y_test = train_test_split(pay_aggr_df[interest_columns][:], pay_aggr_df[target_col][:]) \n",
    "\n",
    "lgb_train = lgb.Dataset(X_train, y_train)\n",
    "lgb_eval = lgb.Dataset(X_test, y_test)\n",
    "\n",
    "lgb_tt = lgb.Dataset(pay_aggr_df[interest_columns][:], pay_aggr_df[target_col][:])\n"
   ]
  },
  {
   "cell_type": "code",
   "execution_count": null,
   "metadata": {},
   "outputs": [],
   "source": [
    "model = lgb.train(params, lgb_train, num_boost_round = 100  )"
   ]
  },
  {
   "cell_type": "code",
   "execution_count": null,
   "metadata": {},
   "outputs": [],
   "source": [
    "first = 30\n",
    "\n",
    "sns.set_context(\"paper\", font_scale=2)\n",
    "feature_imp = pd.DataFrame(sorted(zip(model.feature_importance(),model.feature_name())), columns=['Value','Feature'])\n",
    "\n",
    "\n",
    "#feature_imp = feature_imp[~(feature_imp.Feature.isin(['dev_max_turnover']))][:]\n",
    "\n",
    "#feature_imp = feature_imp[int_columns][:]\n",
    "\n",
    "feature_imp = feature_imp.tail(first)[:]\n",
    "\n",
    "plt.figure(figsize=(20, 15))\n",
    "sns.barplot(x=\"Value\", y=\"Feature\", data=feature_imp.sort_values(by=\"Value\", ascending=False))\n",
    "plt.title('LightGBM Features (avg over folds)')\n",
    "plt.tight_layout()\n",
    "plt.show()\n",
    "#plt.savefig('lgbm_importances-01.png')"
   ]
  },
  {
   "cell_type": "code",
   "execution_count": null,
   "metadata": {},
   "outputs": [],
   "source": [
    "cnt_predict = model.predict(X_test[interest_columns][:])"
   ]
  },
  {
   "cell_type": "code",
   "execution_count": null,
   "metadata": {},
   "outputs": [],
   "source": [
    "from sklearn.metrics import mean_squared_error as mse"
   ]
  },
  {
   "cell_type": "code",
   "execution_count": null,
   "metadata": {},
   "outputs": [],
   "source": [
    "mse(y_test, cnt_predict)"
   ]
  },
  {
   "cell_type": "code",
   "execution_count": null,
   "metadata": {},
   "outputs": [],
   "source": [
    "# Решается задача регрессии. Выдается предсказание какую еду закажет пользователь в зависимости от дня недели.\n",
    "#для обучения используется  LigthGBM (нейронная сеть microsoft ) модель  - https://github.com/Microsoft/LightGBM\n",
    "#LightGBM-это структура повышения градиента, которая использует алгоритмы обучения на основе дерева решений\n",
    "# для оценки используется метод среднеквадратичной ошибки"
   ]
  },
  {
   "cell_type": "code",
   "execution_count": null,
   "metadata": {},
   "outputs": [],
   "source": []
  },
  {
   "cell_type": "code",
   "execution_count": null,
   "metadata": {},
   "outputs": [],
   "source": []
  },
  {
   "cell_type": "code",
   "execution_count": null,
   "metadata": {},
   "outputs": [],
   "source": []
  },
  {
   "cell_type": "code",
   "execution_count": null,
   "metadata": {},
   "outputs": [],
   "source": []
  }
 ],
 "metadata": {
  "kernelspec": {
   "display_name": "Python 2",
   "language": "python",
   "name": "python2"
  },
  "language_info": {
   "codemirror_mode": {
    "name": "ipython",
    "version": 2
   },
   "file_extension": ".py",
   "mimetype": "text/x-python",
   "name": "python",
   "nbconvert_exporter": "python",
   "pygments_lexer": "ipython2",
   "version": "2.7.15"
  }
 },
 "nbformat": 4,
 "nbformat_minor": 2
}
